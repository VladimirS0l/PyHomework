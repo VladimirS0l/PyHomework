{
 "cells": [
  {
   "cell_type": "markdown",
   "id": "9abcd156",
   "metadata": {},
   "source": [
    "f(x) = (sin(x)/2 + cos(x)/2)^2 * sin(x)\n",
    "\n",
    "Определить корни\n",
    "\n",
    "Найти интервалы, на которых функция возрастает\n",
    "\n",
    "Найти интервалы, на которых функция убывает\n",
    "\n",
    "Построить график\n",
    "\n",
    "Вычислить вершину\n",
    "\n",
    "Определить промежутки, на котором f > 0\n",
    "\n",
    "Определить промежутки, на котором f < 0"
   ]
  },
  {
   "cell_type": "code",
   "execution_count": 18,
   "id": "1885e110",
   "metadata": {},
   "outputs": [],
   "source": [
    "from sympy import exp, sin, Symbol, pprint, S, Eq, cos, pi\n",
    "from sympy.solvers.solveset import solveset, solveset_real\n",
    "from sympy import *"
   ]
  },
  {
   "cell_type": "code",
   "execution_count": 57,
   "id": "d76bc98c",
   "metadata": {},
   "outputs": [
    {
     "data": {
      "text/latex": [
       "$\\displaystyle \\left(\\frac{\\sin{\\left(x \\right)}}{2} + \\frac{\\cos{\\left(x \\right)}}{2}\\right)^{2} \\sin{\\left(x \\right)}$"
      ],
      "text/plain": [
       "(sin(x)/2 + cos(x)/2)**2*sin(x)"
      ]
     },
     "execution_count": 57,
     "metadata": {},
     "output_type": "execute_result"
    }
   ],
   "source": [
    "x = Symbol('x', real=True)\n",
    "y = ((sin(x)/2 + cos(x)/2)**2) * sin(x)\n",
    "y"
   ]
  },
  {
   "cell_type": "markdown",
   "id": "b4611c83",
   "metadata": {},
   "source": [
    "1. Определить корни"
   ]
  },
  {
   "cell_type": "code",
   "execution_count": 58,
   "id": "167357ba",
   "metadata": {},
   "outputs": [
    {
     "data": {
      "text/plain": [
       "[0, -pi/4, 3*pi/4, pi]"
      ]
     },
     "execution_count": 58,
     "metadata": {},
     "output_type": "execute_result"
    }
   ],
   "source": [
    "result_solve = solve(y, x, domain = S.Reals)\n",
    "result_solve"
   ]
  },
  {
   "cell_type": "code",
   "execution_count": 46,
   "id": "af03d225",
   "metadata": {},
   "outputs": [
    {
     "data": {
      "text/latex": [
       "$\\displaystyle \\left\\{2 n \\pi\\; \\middle|\\; n \\in \\mathbb{Z}\\right\\} \\cup \\left\\{2 n \\pi + \\pi\\; \\middle|\\; n \\in \\mathbb{Z}\\right\\} \\cup \\left\\{2 n \\pi + \\frac{3 \\pi}{4}\\; \\middle|\\; n \\in \\mathbb{Z}\\right\\} \\cup \\left\\{2 n \\pi + \\frac{7 \\pi}{4}\\; \\middle|\\; n \\in \\mathbb{Z}\\right\\}$"
      ],
      "text/plain": [
       "Union(ImageSet(Lambda(_n, 2*_n*pi + 3*pi/4), Integers), ImageSet(Lambda(_n, 2*_n*pi + 7*pi/4), Integers), ImageSet(Lambda(_n, 2*_n*pi + pi), Integers), ImageSet(Lambda(_n, 2*_n*pi), Integers))"
      ]
     },
     "execution_count": 46,
     "metadata": {},
     "output_type": "execute_result"
    }
   ],
   "source": [
    "solveset(((sin(x)/2 + cos(x)/2)**2) * sin(x), x)"
   ]
  },
  {
   "cell_type": "markdown",
   "id": "57e551a7",
   "metadata": {},
   "source": [
    "Вычисление производной"
   ]
  },
  {
   "cell_type": "code",
   "execution_count": 59,
   "id": "01d8b810",
   "metadata": {},
   "outputs": [
    {
     "data": {
      "text/latex": [
       "$\\displaystyle \\left(- \\sin{\\left(x \\right)} + \\cos{\\left(x \\right)}\\right) \\left(\\frac{\\sin{\\left(x \\right)}}{2} + \\frac{\\cos{\\left(x \\right)}}{2}\\right) \\sin{\\left(x \\right)} + \\left(\\frac{\\sin{\\left(x \\right)}}{2} + \\frac{\\cos{\\left(x \\right)}}{2}\\right)^{2} \\cos{\\left(x \\right)}$"
      ],
      "text/plain": [
       "(-sin(x) + cos(x))*(sin(x)/2 + cos(x)/2)*sin(x) + (sin(x)/2 + cos(x)/2)**2*cos(x)"
      ]
     },
     "execution_count": 59,
     "metadata": {},
     "output_type": "execute_result"
    }
   ],
   "source": [
    "derivate = diff(y)\n",
    "derivate"
   ]
  },
  {
   "cell_type": "markdown",
   "id": "b1b8f011",
   "metadata": {},
   "source": [
    "Вычисление экстремумов производной"
   ]
  },
  {
   "cell_type": "code",
   "execution_count": 60,
   "id": "0c0e72f4",
   "metadata": {},
   "outputs": [
    {
     "name": "stdout",
     "output_type": "stream",
     "text": [
      "-0.79 \t -pi/4\n",
      "2.36 \t 3*pi/4\n",
      "-2.08 \t -2*atan(-3/2 + sqrt(6)*sqrt(5 - sqrt(17))/2 + sqrt(17)/2)\n",
      "2.87 \t 2*atan(3/2 + sqrt(17)/2 + sqrt(6)*sqrt(sqrt(17) + 5)/2)\n",
      "1.06 \t 2*atan(-sqrt(17)/2 + sqrt(6)*sqrt(5 - sqrt(17))/2 + 3/2)\n",
      "-0.27 \t 2*atan(-sqrt(6)*sqrt(sqrt(17) + 5)/2 + 3/2 + sqrt(17)/2)\n"
     ]
    }
   ],
   "source": [
    "result_solve_der = solve(derivate, x)\n",
    "for i in result_solve_der:\n",
    "    print(round(i.evalf(), 2), '\\t', i)"
   ]
  },
  {
   "cell_type": "markdown",
   "id": "432ce52b",
   "metadata": {},
   "source": [
    "Обозначаем отрезки"
   ]
  },
  {
   "cell_type": "code",
   "execution_count": 64,
   "id": "2a2a61dd",
   "metadata": {},
   "outputs": [
    {
     "name": "stdout",
     "output_type": "stream",
     "text": [
      "-3.1 \t -pi\n",
      "-3.1 \t -pi\n",
      "-2.1 \t -2*atan(-3/2 + sqrt(6)*sqrt(5 - sqrt(17))/2 + sqrt(17)/2)\n",
      "-0.79 \t -pi/4\n",
      "-0.27 \t 2*atan(-sqrt(6)*sqrt(sqrt(17) + 5)/2 + 3/2 + sqrt(17)/2)\n",
      "1.1 \t 2*atan(-sqrt(17)/2 + sqrt(6)*sqrt(5 - sqrt(17))/2 + 3/2)\n",
      "2.4 \t 3*pi/4\n",
      "2.9 \t 2*atan(3/2 + sqrt(17)/2 + sqrt(6)*sqrt(sqrt(17) + 5)/2)\n",
      "3.1 \t pi\n"
     ]
    }
   ],
   "source": [
    "if result_solve_der[-1] != pi:\n",
    "    result_solve_der.append(pi)\n",
    "if result_solve_der[0] != pi:\n",
    "    result_solve_der.insert(0, -pi)\n",
    "result_solve_der.sort()\n",
    "for i in result_solve_der:\n",
    "    print(i.evalf(2), '\\t', i)"
   ]
  },
  {
   "cell_type": "markdown",
   "id": "6e941c71",
   "metadata": {},
   "source": [
    "2-3. Найти интервалы на которых функция убывает и возрастает"
   ]
  },
  {
   "cell_type": "code",
   "execution_count": 65,
   "id": "a4757812",
   "metadata": {},
   "outputs": [
    {
     "name": "stdout",
     "output_type": "stream",
     "text": [
      "-3.1 : -3.1 - функция убывает\n",
      "-3.1 : -2.1 - функция убывает\n",
      "-2.1 : -0.79 - функция возрастает\n",
      "-0.79 : -0.27 - функция убывает\n",
      "-0.27 : 1.1 - функция возрастает\n",
      "1.1 : 2.4 - функция убывает\n",
      "2.4 : 2.9 - функция возрастает\n",
      "2.9 : 3.1 - функция убывает\n"
     ]
    }
   ],
   "source": [
    "for i in range(len(result_solve_der)-1):\n",
    "    result = derivate.subs(x, (result_solve_der[i+1] + result_solve_der[i])/2)\n",
    "    if result > 0:\n",
    "        pprint(f'{result_solve_der[i].evalf(2)} : {result_solve_der[i+1].evalf(2)} - функция возрастает')\n",
    "    else:\n",
    "        pprint(f'{result_solve_der[i].evalf(2)} : {result_solve_der[i+1].evalf(2)} - функция убывает')"
   ]
  },
  {
   "cell_type": "markdown",
   "id": "a5063d3f",
   "metadata": {},
   "source": [
    "4. Построить график"
   ]
  },
  {
   "cell_type": "code",
   "execution_count": 66,
   "id": "6f9b9f30",
   "metadata": {},
   "outputs": [
    {
     "data": {
      "image/png": "[encoded data removed]",
      "text/plain": [
       "<Figure size 432x288 with 1 Axes>"
      ]
     },
     "metadata": {
      "needs_background": "light"
     },
     "output_type": "display_data"
    }
   ],
   "source": [
    "graph = plot(y, (x, -pi, pi))"
   ]
  },
  {
   "cell_type": "markdown",
   "id": "4d6fd572",
   "metadata": {},
   "source": [
    "5. Вычислить вершину"
   ]
  },
  {
   "cell_type": "code",
   "execution_count": 71,
   "id": "99c08bdc",
   "metadata": {},
   "outputs": [
    {
     "name": "stdout",
     "output_type": "stream",
     "text": [
      "y_max = 0.404\n",
      "y_min = -0.404\n"
     ]
    }
   ],
   "source": [
    "y_max = maximum(y, x, Interval(-pi, pi)).evalf(3)\n",
    "y_min = minimum(y, x, Interval(-pi, pi)).evalf(3)\n",
    "print(f'y_max = {y_max}')\n",
    "print(f'y_min = {y_min}')"
   ]
  },
  {
   "cell_type": "markdown",
   "id": "98bfbaff",
   "metadata": {},
   "source": [
    "6-7. Определить промежутки, на которых f > 0 или f < 0"
   ]
  },
  {
   "cell_type": "code",
   "execution_count": 72,
   "id": "70c0e68e",
   "metadata": {},
   "outputs": [
    {
     "data": {
      "text/plain": [
       "[-pi, -pi/4, 0, 3*pi/4, pi]"
      ]
     },
     "execution_count": 72,
     "metadata": {},
     "output_type": "execute_result"
    }
   ],
   "source": [
    "if result_solve[-1] != pi:\n",
    "    result_solve.append(pi)\n",
    "if result_solve[0] != pi:\n",
    "    result_solve.insert(0, -pi)\n",
    "result_solve.sort()\n",
    "result_solve"
   ]
  },
  {
   "cell_type": "code",
   "execution_count": 73,
   "id": "e2dc220c",
   "metadata": {},
   "outputs": [
    {
     "name": "stdout",
     "output_type": "stream",
     "text": [
      "-pi : -pi/4 - f < 0\n",
      "-pi/4 : 0 - f < 0\n",
      "0 : 3*pi/4 - f > 0\n",
      "3*pi/4 : pi - f > 0\n"
     ]
    }
   ],
   "source": [
    "for i in range(len(result_solve)-1):\n",
    "    result_y = y.subs(x, (result_solve[i+1] + result_solve[i])/2)\n",
    "    if result_y > 0:\n",
    "        pprint(f'{result_solve[i]} : {result_solve[i+1]} - f > 0')\n",
    "    else:\n",
    "        pprint(f'{result_solve[i]} : {result_solve[i+1]} - f < 0')"
   ]
  },
  {
   "cell_type": "code",
   "execution_count": null,
   "id": "bffd1879",
   "metadata": {},
   "outputs": [],
   "source": []
  }
 ],
 "metadata": {
  "kernelspec": {
   "display_name": "Python 3 (ipykernel)",
   "language": "python",
   "name": "python3"
  },
  "language_info": {
   "codemirror_mode": {
    "name": "ipython",
    "version": 3
   },
   "file_extension": ".py",
   "mimetype": "text/x-python",
   "name": "python",
   "nbconvert_exporter": "python",
   "pygments_lexer": "ipython3",
   "version": "3.9.12"
  }
 },
 "nbformat": 4,
 "nbformat_minor": 5
}
